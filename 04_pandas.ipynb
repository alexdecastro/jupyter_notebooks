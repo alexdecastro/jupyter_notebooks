{
 "cells": [
  {
   "cell_type": "code",
   "execution_count": null,
   "id": "b68e13c9",
   "metadata": {},
   "outputs": [],
   "source": [
    "# Pandas\n",
    "#\n",
    "# Create a Dataframe\n",
    "# Python dictionary equivalent to Dataframe\n",
    "# read_csv into Dataframe\n",
    "# Reset the Dataframe index\n",
    "# Set the Dataframe index\n",
    "# Dataframe to_csv\n",
    "# Dataframe dimensions (rows, cols)\n",
    "# Dataframe size\n",
    "# Data type of each Series (column)\n",
    "# Dataframe info\n",
    "# Drop duplicate rows\n",
    "# Each column in a DataFrame is a Series\n",
    "# Create a new Series\n",
    "# Add a column to the Dataframe\n",
    "# Delete a column\n",
    "# Operations on Series\n",
    "# Sort\n",
    "# Get rows and columns using integer location 'iloc'\n",
    "# Get rows and columns using column labels 'loc'\n",
    "# Get a Series of boolean values\n",
    "# Filter a Dataframe using a Series of boolean values\n",
    "# Filter and only keep specific columns\n",
    "# Filter by string contents\n",
    "# Get the column names\n",
    "# Rename columns\n",
    "# Update values in a row\n",
    "# apply - apply a function to every value in a Series, or every Series in a Dataframe\n",
    "# applymap - apply a function to every value in a Dataframe. Does not work with Series\n",
    "# map - map each value in a Series to a different value. Values not matched are set to NaN\n",
    "# replace - replace each value in a Series to a different value. Values not matched are unchanged\n",
    "# groupby\n",
    "# Create a second DataFrame\n",
    "# SQL equivalents to Dataframe operations\n",
    "# INNER JOIN, LEFT JOIN, RIGHT JOIN, FULL JOIN"
   ]
  },
  {
   "cell_type": "code",
   "execution_count": null,
   "id": "c30bd694",
   "metadata": {},
   "outputs": [],
   "source": [
    "import pandas as pd"
   ]
  },
  {
   "cell_type": "code",
   "execution_count": null,
   "id": "6cd1b4f4",
   "metadata": {},
   "outputs": [],
   "source": [
    "pd.__version__"
   ]
  },
  {
   "cell_type": "code",
   "execution_count": null,
   "id": "36e0a10d",
   "metadata": {},
   "outputs": [],
   "source": [
    "# Create a Dataframe\n",
    "df = pd.DataFrame(\n",
    "    {\n",
    "        \"patient_id\": [\"0001\", \"0002\", \"0003\", \"0004\"],\n",
    "        \"first_name\": [\"Alice\", \"Bob\", \"Carol\", \"David\"],\n",
    "        \"dob\": [\"1950-01-01\", \"1950-02-02\", \"1950-03-03\", \"1950-04-04\"],\n",
    "        \"value1\": [20, 30, 40, 50],\n",
    "    }\n",
    ")\n",
    "df"
   ]
  },
  {
   "cell_type": "code",
   "execution_count": null,
   "id": "946b46e6",
   "metadata": {},
   "outputs": [],
   "source": [
    "# Python dictionary equivalent to Dataframe\n",
    "patients = {\n",
    "    \"patient_id\": [\"0001\", \"0002\", \"0003\", \"0004\"],\n",
    "    \"first_name\": [\"Alice\", \"Bob\", \"Carol\", \"David\"],\n",
    "    \"dob\": [\"1950-01-01\", \"1950-02-02\", \"1950-03-03\", \"1950-04-04\"],\n",
    "    \"value1\": [20, 30, 40, 50],\n",
    "}\n",
    "print(patients)\n",
    "new_df = pd.DataFrame(patients)\n",
    "new_df"
   ]
  },
  {
   "cell_type": "code",
   "execution_count": null,
   "id": "2afcfa76",
   "metadata": {},
   "outputs": [],
   "source": [
    "# read_csv into Dataframe\n",
    "csv_df = pd.read_csv(\"data/pandas_data.csv\", index_col=\"patient_id\")\n",
    "csv_df"
   ]
  },
  {
   "cell_type": "code",
   "execution_count": null,
   "id": "3382f850",
   "metadata": {},
   "outputs": [],
   "source": [
    "# Reset the Dataframe index\n",
    "csv_df.reset_index(inplace=True)\n",
    "csv_df.index"
   ]
  },
  {
   "cell_type": "code",
   "execution_count": null,
   "id": "f8db9e5d",
   "metadata": {},
   "outputs": [],
   "source": [
    "# Get the column names\n",
    "csv_df.columns"
   ]
  },
  {
   "cell_type": "code",
   "execution_count": null,
   "id": "199894b8",
   "metadata": {},
   "outputs": [],
   "source": [
    "# Set the Dataframe index\n",
    "csv_df.set_index(\"first_name\", inplace=True)\n",
    "csv_df"
   ]
  },
  {
   "cell_type": "code",
   "execution_count": null,
   "id": "449566e2",
   "metadata": {},
   "outputs": [],
   "source": [
    "# Dataframe to_csv\n",
    "df.to_csv(\"data/out.csv\")\n",
    "df"
   ]
  },
  {
   "cell_type": "code",
   "execution_count": null,
   "id": "7af9f01d",
   "metadata": {},
   "outputs": [],
   "source": [
    "# Dataframe dimensions (rows, cols)\n",
    "df.shape"
   ]
  },
  {
   "cell_type": "code",
   "execution_count": null,
   "id": "0ec14bc5",
   "metadata": {},
   "outputs": [],
   "source": [
    "# Dataframe size\n",
    "df.size"
   ]
  },
  {
   "cell_type": "code",
   "execution_count": null,
   "id": "69eeec7c",
   "metadata": {},
   "outputs": [],
   "source": [
    "# Data type of each Series (column)\n",
    "df.dtypes"
   ]
  },
  {
   "cell_type": "code",
   "execution_count": null,
   "id": "928174a2",
   "metadata": {},
   "outputs": [],
   "source": [
    "# Dataframe info\n",
    "df.info()"
   ]
  },
  {
   "cell_type": "code",
   "execution_count": null,
   "id": "766de355",
   "metadata": {},
   "outputs": [],
   "source": [
    "# Drop duplicate rows\n",
    "df.drop_duplicates()"
   ]
  },
  {
   "cell_type": "code",
   "execution_count": null,
   "id": "74a762d3",
   "metadata": {},
   "outputs": [],
   "source": [
    "# Each column in a DataFrame is a Series\n",
    "df[\"dob\"]"
   ]
  },
  {
   "cell_type": "code",
   "execution_count": null,
   "id": "50ecd109",
   "metadata": {},
   "outputs": [],
   "source": [
    "# Create a new Series\n",
    "values = pd.Series([70, 80, 90, 100])\n",
    "values"
   ]
  },
  {
   "cell_type": "code",
   "execution_count": null,
   "id": "9178a42b",
   "metadata": {},
   "outputs": [],
   "source": [
    "type(values)"
   ]
  },
  {
   "cell_type": "code",
   "execution_count": null,
   "id": "9b4ab03d",
   "metadata": {},
   "outputs": [],
   "source": [
    "# Add a column to the Dataframe\n",
    "df['value2'] = values\n",
    "df"
   ]
  },
  {
   "cell_type": "code",
   "execution_count": null,
   "id": "0438d2fb",
   "metadata": {},
   "outputs": [],
   "source": [
    "# Delete a column\n",
    "df.drop(columns=['value2']) # inplace=True"
   ]
  },
  {
   "cell_type": "code",
   "execution_count": null,
   "id": "995609f7",
   "metadata": {},
   "outputs": [],
   "source": [
    "# Operations on Series\n",
    "df[\"value2\"].describe()"
   ]
  },
  {
   "cell_type": "code",
   "execution_count": null,
   "id": "31d72064",
   "metadata": {},
   "outputs": [],
   "source": [
    "# Operations on Series\n",
    "df[\"value2\"].min()\n",
    "df[\"value2\"].max()\n",
    "df[\"value2\"].mean()\n",
    "df[\"value2\"].count()"
   ]
  },
  {
   "cell_type": "code",
   "execution_count": null,
   "id": "e9d84b23",
   "metadata": {},
   "outputs": [],
   "source": [
    "# Operations on Series\n",
    "df[\"value2\"].value_counts()"
   ]
  },
  {
   "cell_type": "code",
   "execution_count": null,
   "id": "13585156",
   "metadata": {},
   "outputs": [],
   "source": [
    "# Sort\n",
    "sorted_df = df.sort_values(\"value2\", ascending=True)\n",
    "sorted_df"
   ]
  },
  {
   "cell_type": "code",
   "execution_count": null,
   "id": "f967d3f6",
   "metadata": {},
   "outputs": [],
   "source": [
    "# Sort inplace\n",
    "sorted_df.sort_values(\"dob\", ascending=True, inplace=True)\n",
    "sorted_df"
   ]
  },
  {
   "cell_type": "code",
   "execution_count": null,
   "id": "1952a57d",
   "metadata": {},
   "outputs": [],
   "source": [
    "# Get rows and columns using integer location 'iloc'\n",
    "# Get rows from index 0 to 2 and select columns 0 and 2\n",
    "df.iloc[0:2, [0,2]]"
   ]
  },
  {
   "cell_type": "code",
   "execution_count": null,
   "id": "5e7d84ff",
   "metadata": {},
   "outputs": [],
   "source": [
    "# Get rows and columns using column labels 'loc'\n",
    "# Get rows from index 0 to 2 (inclusive) and select columns first_name and dob\n",
    "df.loc[0:2, ['first_name','dob']]"
   ]
  },
  {
   "cell_type": "code",
   "execution_count": null,
   "id": "adc2a505",
   "metadata": {},
   "outputs": [],
   "source": [
    "# Get a Series of boolean values\n",
    "df[\"value1\"] > 30"
   ]
  },
  {
   "cell_type": "code",
   "execution_count": null,
   "id": "14cd9616",
   "metadata": {},
   "outputs": [],
   "source": [
    "# Get a Series of boolean values\n",
    "df['value1'].isna()"
   ]
  },
  {
   "cell_type": "code",
   "execution_count": null,
   "id": "14fca3f2",
   "metadata": {},
   "outputs": [],
   "source": [
    "# Get a Series of boolean values\n",
    "df['value1'].notna()"
   ]
  },
  {
   "cell_type": "code",
   "execution_count": null,
   "id": "b4e19b76",
   "metadata": {},
   "outputs": [],
   "source": [
    "# Filter a Dataframe using a Series of boolean values\n",
    "#\n",
    "# DELETE FROM df\n",
    "# WHERE value1 IS NULL OR value1 <= 30;\n",
    "filt = (df['value1'].notna()) & (df[\"value1\"] > 30)\n",
    "temp_df = df.loc[filt]\n",
    "temp_df"
   ]
  },
  {
   "cell_type": "code",
   "execution_count": null,
   "id": "7ff32a21",
   "metadata": {},
   "outputs": [],
   "source": [
    "# Filter and only keep specific columns\n",
    "temp_df = df.loc[filt, [\"first_name\", \"value1\"]]\n",
    "temp_df"
   ]
  },
  {
   "cell_type": "code",
   "execution_count": null,
   "id": "b6a25e16",
   "metadata": {},
   "outputs": [],
   "source": [
    "# Filter by string contents\n",
    "df[df['first_name'].str.contains('a', na=False)]"
   ]
  },
  {
   "cell_type": "code",
   "execution_count": null,
   "id": "a4f63df9",
   "metadata": {},
   "outputs": [],
   "source": [
    "# Get the column names\n",
    "df.columns"
   ]
  },
  {
   "cell_type": "code",
   "execution_count": null,
   "id": "f37b0d56",
   "metadata": {},
   "outputs": [],
   "source": [
    "# Rename columns"
   ]
  },
  {
   "cell_type": "code",
   "execution_count": null,
   "id": "8751e16e",
   "metadata": {},
   "outputs": [],
   "source": [
    "# Rename all columns\n",
    "temp_df = df.copy()\n",
    "temp_df.columns = [x.lower() for x in df.columns] # List comprehension\n",
    "temp_df"
   ]
  },
  {
   "cell_type": "code",
   "execution_count": null,
   "id": "7ba4d2e2",
   "metadata": {},
   "outputs": [],
   "source": [
    "# Rename some columns\n",
    "temp_df = df.copy()\n",
    "temp_df.rename(columns={\"patient_id\": \"patient_id\"}, inplace=True)\n",
    "temp_df"
   ]
  },
  {
   "cell_type": "code",
   "execution_count": null,
   "id": "0b626ea6",
   "metadata": {},
   "outputs": [],
   "source": [
    "# Update values in a row"
   ]
  },
  {
   "cell_type": "code",
   "execution_count": null,
   "id": "dec792ed",
   "metadata": {},
   "outputs": [],
   "source": [
    "# Update all values in a row\n",
    "temp_df.loc[2] = [\"0005\", \"Charles\", \"1950-05-05\", 50, 110]\n",
    "temp_df"
   ]
  },
  {
   "cell_type": "code",
   "execution_count": null,
   "id": "b111dfde",
   "metadata": {},
   "outputs": [],
   "source": [
    "# Update some values in a row\n",
    "temp_df.loc[2, [\"first_name\", \"dob\"]] = [\"Fred\", \"1950-05-05\"]\n",
    "temp_df"
   ]
  },
  {
   "cell_type": "code",
   "execution_count": null,
   "id": "026f6cdf",
   "metadata": {},
   "outputs": [],
   "source": [
    "# Update a single value in a row\n",
    "temp_df.loc[2, \"first_name\"] = \"Fred\"\n",
    "temp_df.at[2, \"first_name\"] = \"Fred\"\n",
    "temp_df"
   ]
  },
  {
   "cell_type": "code",
   "execution_count": null,
   "id": "7b327612",
   "metadata": {},
   "outputs": [],
   "source": [
    "# apply - apply a function to every value in a Series, or every Series in a Dataframe\n",
    "# applymap - apply a function to every value in a Dataframe. Does not work with Series\n",
    "# map - map each value in a Series to a different value. Values not matched are set to NaN\n",
    "# replace - replace each value in a Series to a different value. Values not matched are unchanged"
   ]
  },
  {
   "cell_type": "code",
   "execution_count": null,
   "id": "4bce5cd7",
   "metadata": {},
   "outputs": [],
   "source": [
    "# apply - apply function to a Series\n",
    "# Length of each value in the Series\n",
    "df['first_name'].apply(len)"
   ]
  },
  {
   "cell_type": "code",
   "execution_count": null,
   "id": "58cec990",
   "metadata": {},
   "outputs": [],
   "source": [
    "# apply - apply function to each Series in the Dataframe\n",
    "# Length of each Series in the Dataframe\n",
    "df.apply(len, axis='rows') # rows is default"
   ]
  },
  {
   "cell_type": "code",
   "execution_count": null,
   "id": "735e9a0f",
   "metadata": {},
   "outputs": [],
   "source": [
    "# apply - apply function to each Series in the Dataframe\n",
    "# Length of each Row in the Dataframe\n",
    "df.apply(len, axis='columns')"
   ]
  },
  {
   "cell_type": "code",
   "execution_count": null,
   "id": "8d98166b",
   "metadata": {},
   "outputs": [],
   "source": [
    "df"
   ]
  },
  {
   "cell_type": "code",
   "execution_count": null,
   "id": "a3965584",
   "metadata": {},
   "outputs": [],
   "source": [
    "# applymap - apply a function to every value in a Dataframe\n",
    "temp_df = df.loc[df[\"first_name\"].notna(), [\"first_name\", \"dob\"]]\n",
    "temp_df.applymap(len)"
   ]
  },
  {
   "cell_type": "code",
   "execution_count": null,
   "id": "f05439b1",
   "metadata": {},
   "outputs": [],
   "source": [
    "# applymap - apply a function to every value in a Dataframe\n",
    "temp_df.applymap(str.upper) # inplace=True"
   ]
  },
  {
   "cell_type": "code",
   "execution_count": null,
   "id": "aa14cf31",
   "metadata": {},
   "outputs": [],
   "source": [
    "# map - map each value in a Series to a different value\n",
    "# Values not matched are set to NaN\n",
    "temp_df['first_name'].map({'Alice': 'Alice_edit', 'Bob': 'Bob_edit'})"
   ]
  },
  {
   "cell_type": "code",
   "execution_count": null,
   "id": "8bf0a4e1",
   "metadata": {},
   "outputs": [],
   "source": [
    "# replace - replace each value in a Series to a different value\n",
    "# Values not matched are unchanged\n",
    "temp_df['first_name'].replace({'Alice': 'Alice_edit', 'Bob': 'Bob_edit'})"
   ]
  },
  {
   "cell_type": "code",
   "execution_count": null,
   "id": "2a96ee59",
   "metadata": {},
   "outputs": [],
   "source": [
    "# Pass a standard function into apply\n",
    "def name_to_upper(name):\n",
    "    return name.upper()\n",
    "temp_df['first_name'] = temp_df['first_name'].apply(name_to_upper)\n",
    "temp_df"
   ]
  },
  {
   "cell_type": "code",
   "execution_count": null,
   "id": "463f31bf",
   "metadata": {},
   "outputs": [],
   "source": [
    "# Pass a lambda function into apply\n",
    "temp_df['first_name'] = temp_df['first_name'].apply(lambda x: x.upper())\n",
    "temp_df"
   ]
  },
  {
   "cell_type": "code",
   "execution_count": null,
   "id": "25008bae",
   "metadata": {},
   "outputs": [],
   "source": [
    "# groupby\n",
    "df.groupby(\"value1\").size()"
   ]
  },
  {
   "cell_type": "code",
   "execution_count": null,
   "id": "b1414860",
   "metadata": {},
   "outputs": [],
   "source": [
    "# groupby\n",
    "df.groupby(\"value1\").count()"
   ]
  },
  {
   "cell_type": "code",
   "execution_count": null,
   "id": "3e585960",
   "metadata": {},
   "outputs": [],
   "source": [
    "# Create a second DataFrame\n",
    "df1 = df\n",
    "df2 = pd.DataFrame(\n",
    "    {\n",
    "        \"patient_id\": [\"0001\", \"0002\", \"0003\", \"0005\", \"0006\"],\n",
    "        \"visit_date\": [\"2022-08-01\", \"2022-08-02\", \"2022-08-03\", \"2022-08-05\", \"2022-08-06\"],\n",
    "        \"result1\": [11, 12, 13, 15, 16],\n",
    "        \"result2\": [51, 52, 53, 55, 56],\n",
    "    }\n",
    ")\n",
    "df2"
   ]
  },
  {
   "cell_type": "code",
   "execution_count": null,
   "id": "eab6997f",
   "metadata": {},
   "outputs": [],
   "source": [
    "# SQL equivalents to Dataframe operations"
   ]
  },
  {
   "cell_type": "code",
   "execution_count": null,
   "id": "696dde22",
   "metadata": {},
   "outputs": [],
   "source": [
    "# INNER JOIN\n",
    "# merge performs an INNER JOIN by default\n",
    "#\n",
    "# SELECT *\n",
    "# FROM df1\n",
    "# INNER JOIN df2\n",
    "# ON df1.key = df2.key;\n",
    "pd.merge(df1, df2, on=\"patient_id\")"
   ]
  },
  {
   "cell_type": "code",
   "execution_count": null,
   "id": "877e669d",
   "metadata": {},
   "outputs": [],
   "source": [
    "# LEFT JOIN\n",
    "#\n",
    "# SELECT *\n",
    "# FROM df1\n",
    "# LEFT JOIN df2\n",
    "# ON df1.key = df2.key;\n",
    "pd.merge(df1, df2, on=\"patient_id\", how=\"left\")"
   ]
  },
  {
   "cell_type": "code",
   "execution_count": null,
   "id": "5a43781a",
   "metadata": {},
   "outputs": [],
   "source": [
    "# RIGHT JOIN\n",
    "#\n",
    "# SELECT *\n",
    "# FROM df1\n",
    "# RIGHT JOIN df2\n",
    "# ON df1.key = df2.key;\n",
    "pd.merge(df1, df2, on=\"patient_id\", how=\"right\")"
   ]
  },
  {
   "cell_type": "code",
   "execution_count": null,
   "id": "5679f18d",
   "metadata": {},
   "outputs": [],
   "source": [
    "# FULL JOIN\n",
    "#\n",
    "# SELECT *\n",
    "# FROM df1\n",
    "# FULL OUTER JOIN df2\n",
    "# ON df1.key = df2.key;\n",
    "pd.merge(df1, df2, on=\"patient_id\", how=\"outer\")"
   ]
  },
  {
   "cell_type": "code",
   "execution_count": null,
   "id": "c26b96f8",
   "metadata": {},
   "outputs": [],
   "source": [
    "# Concatenate Dataframes\n",
    "#\n",
    "# SELECT * FROM df1\n",
    "# UNION ALL\n",
    "# SELECT * FROM df2;\n",
    "pd.concat([df1, df2])"
   ]
  },
  {
   "cell_type": "code",
   "execution_count": null,
   "id": "45dda605",
   "metadata": {},
   "outputs": [],
   "source": [
    "# UPDATE\n",
    "#\n",
    "# UPDATE df\n",
    "# SET value1 = value1 + 10\n",
    "# WHERE value1 < 80;\n",
    "temp_df = df\n",
    "temp_df.loc[df1[\"value1\"] < 80, \"value1\"] += 10\n",
    "temp_df"
   ]
  },
  {
   "cell_type": "code",
   "execution_count": null,
   "id": "4a8157c6",
   "metadata": {},
   "outputs": [],
   "source": [
    "df"
   ]
  },
  {
   "cell_type": "code",
   "execution_count": null,
   "id": "61943d59",
   "metadata": {},
   "outputs": [],
   "source": []
  }
 ],
 "metadata": {
  "kernelspec": {
   "display_name": "Python 3 (ipykernel)",
   "language": "python",
   "name": "python3"
  },
  "language_info": {
   "codemirror_mode": {
    "name": "ipython",
    "version": 3
   },
   "file_extension": ".py",
   "mimetype": "text/x-python",
   "name": "python",
   "nbconvert_exporter": "python",
   "pygments_lexer": "ipython3",
   "version": "3.8.9"
  }
 },
 "nbformat": 4,
 "nbformat_minor": 5
}
