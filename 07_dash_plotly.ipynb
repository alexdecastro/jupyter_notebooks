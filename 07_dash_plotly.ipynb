{
 "cells": [
  {
   "cell_type": "code",
   "execution_count": null,
   "id": "c14c7db3",
   "metadata": {},
   "outputs": [],
   "source": [
    "# Dash and plotly"
   ]
  },
  {
   "cell_type": "code",
   "execution_count": null,
   "id": "5582b168",
   "metadata": {},
   "outputs": [],
   "source": [
    "# Install Dash and plotly for Jupyter\n",
    "# pip install jupyter-dash"
   ]
  },
  {
   "cell_type": "code",
   "execution_count": null,
   "id": "821fa56f",
   "metadata": {},
   "outputs": [],
   "source": [
    "from dash import Dash, html, dcc\n",
    "import plotly.express as px\n",
    "import pandas as pd"
   ]
  },
  {
   "cell_type": "code",
   "execution_count": null,
   "id": "a4a04b82",
   "metadata": {},
   "outputs": [],
   "source": [
    "# Create a Dataframe\n",
    "df = pd.DataFrame(\n",
    "    {\n",
    "        \"patient_id\": [\"0001\", \"0002\", \"0003\", \"0004\"],\n",
    "        \"first_name\": [\"Alice\", \"Bob\", \"Carol\", \"David\"],\n",
    "        \"dob\": [\"1950-01-01\", \"1950-02-02\", \"1950-03-03\", \"1950-04-04\"],\n",
    "        \"value1\": [20, 30, 40, 50],\n",
    "        \"value2\": [10, 2, 8, 4],\n",
    "    }\n",
    ")\n",
    "df"
   ]
  },
  {
   "cell_type": "code",
   "execution_count": null,
   "id": "541497a1",
   "metadata": {},
   "outputs": [],
   "source": [
    "# Create a bar chart\n",
    "fig = px.bar(df, x=\"first_name\", y=\"value2\", color=\"value2\", barmode=\"group\")\n",
    "fig"
   ]
  },
  {
   "cell_type": "code",
   "execution_count": null,
   "id": "4ef747e6",
   "metadata": {},
   "outputs": [],
   "source": []
  }
 ],
 "metadata": {
  "kernelspec": {
   "display_name": "Python 3 (ipykernel)",
   "language": "python",
   "name": "python3"
  },
  "language_info": {
   "codemirror_mode": {
    "name": "ipython",
    "version": 3
   },
   "file_extension": ".py",
   "mimetype": "text/x-python",
   "name": "python",
   "nbconvert_exporter": "python",
   "pygments_lexer": "ipython3",
   "version": "3.8.9"
  }
 },
 "nbformat": 4,
 "nbformat_minor": 5
}
